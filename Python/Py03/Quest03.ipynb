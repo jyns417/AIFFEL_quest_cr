{
  "nbformat": 4,
  "nbformat_minor": 0,
  "metadata": {
    "colab": {
      "provenance": [],
      "private_outputs": true,
      "include_colab_link": true
    },
    "kernelspec": {
      "name": "python3",
      "display_name": "Python 3"
    },
    "language_info": {
      "name": "python"
    }
  },
  "cells": [
    {
      "cell_type": "markdown",
      "metadata": {
        "id": "view-in-github",
        "colab_type": "text"
      },
      "source": [
        "<a href=\"https://colab.research.google.com/github/jyns417/AIFFEL_quest_cr/blob/main/Python/Py03/Quest03.ipynb\" target=\"_parent\"><img src=\"https://colab.research.google.com/assets/colab-badge.svg\" alt=\"Open In Colab\"/></a>"
      ]
    },
    {
      "cell_type": "markdown",
      "source": [
        "# [파이썬] 퀘스트: 클로저를 활용한 문제해결하기\n",
        "\n",
        "난이도: ★★★★☆  \n",
        "장르: nonlocal, 클로저, 데코레이터 활용  \n",
        "\n",
        "---\n",
        "\n",
        "\n"
      ],
      "metadata": {
        "id": "sPRcyZsPorCm"
      }
    },
    {
      "cell_type": "markdown",
      "source": [
        "## 문제 1. 최댓값과 최솟값 찾기\n",
        "\n"
      ],
      "metadata": {
        "id": "Dh2vcnApr4VI"
      }
    },
    {
      "cell_type": "markdown",
      "source": [
        "조건:  \n",
        "* 주어진 리스트의 최댓값과 최솟값을 반환하는 클로저 함수를 완성해 주세요.\n",
        "    * 주어진 숫자 리스트 numbers에 대해 find_min_max 함수를 호출하면 find_min과 find_max 함수를 얻을 수 있습니다.\n",
        "    * find_min() 함수를 호출하면 최솟값을, find_max()함수를 호출하면 최댓값을 반환합니다.\n",
        "    * 클로저를 사용하여 min_value와 max_value 변수를 외부에 노출하지 않고도 최솟값과 최대값을 찾을 수 있습니다.\n",
        "    * find_min_max 함수가 호출된 이후에도 find_min과 find_max 함수를 통해 min_value와 max_value 변수에 접근할 수 있습니다.\n",
        "* 주석으로 구현 내용이 써있는 부분을 코드로 채워주세요.\n",
        "---\n",
        "입력:\n",
        "```python\n",
        "numbers = [10, 5, 8, 12, 3, 7]\n",
        "find_min, find_max = find_min_max(numbers)\n",
        "\n",
        "print(\"최솟값:\", find_min())  \n",
        "print(\"최댓값:\", find_max())  \n",
        "```\n",
        "---\n",
        "출력:\n",
        "```\n",
        "3\n",
        "12\n",
        "```\n"
      ],
      "metadata": {
        "id": "d-vXJztpvFD-"
      }
    },
    {
      "cell_type": "code",
      "source": [
        "# @title 기본 제목 텍스트\n",
        "def find_min_max(numbers):\n",
        "\n",
        "    # min_value와 max_value 변수를 초기화\n",
        "    min_value = float('inf') # min_value는 양의 무한대(float('inf'))로 초기화하여 어떤 숫자보다도 큰 값으로 설정\n",
        "    max_value = float('-inf') # max_value는 음의 무한대(float('-inf'))로 초기화하여 어떤 숫자보다도 작은 값으로 설정\n",
        "\n",
        "    def update_min_max(num):\n",
        "      nonlocal min_value, max_value # 외부함수의 변수인 min_value, max_value 참조\n",
        "      if num < min_value:\n",
        "        min_value = num # 만약 num 값이 min_value보다 작다면 min_value를 num 값으로 변경\n",
        "      if num > max_value:\n",
        "        max_value = num\n",
        "      if num <= min_value: # 만약 num 값이 max_value보다 크다면 max_value를 num 값으로 변경\n",
        "        min_value = num\n",
        "\n",
        "    for num in numbers: # numbers 리스트의 모든 값을 순환하며 최댓값과 최솟값 업데이트\n",
        "        update_min_max(num)\n",
        "\n",
        "    def get_min(): # 최솟값을 반환하는 내부함수\n",
        "      return min_value\n",
        "\n",
        "    def get_max(): # 최댓값을 반환하는 내부함수\n",
        "      return max_value\n",
        "\n",
        "    return (get_min, get_max)  # 외부함수는 내부함수(get_min()과 get_max())를 반환\n"
      ],
      "metadata": {
        "id": "oF_uYyS2jjPj"
      },
      "execution_count": null,
      "outputs": []
    },
    {
      "cell_type": "code",
      "source": [
        "numbers = [10, 5, 8, 12, 3, 7]\n",
        "find_min, find_max = find_min_max(numbers) # 함수로 지정\n",
        "\n",
        "print(\"최솟값:\", find_min())  # 3\n",
        "print(\"최댓값:\", find_max())  # 12"
      ],
      "metadata": {
        "id": "fCd_fJBrobxi"
      },
      "execution_count": null,
      "outputs": []
    },
    {
      "cell_type": "markdown",
      "source": [
        "## 문제 2. 함수의 호출 횟수를 세는 데코레이터"
      ],
      "metadata": {
        "id": "d3XECsmXwES5"
      }
    },
    {
      "cell_type": "markdown",
      "source": [
        "지난 시간에 배운 데코레이터를 기억하시나요? 데코레이터도 내부함수를 반환하는 클로저를 활용한 문법입니다. 클로저를 활용하여 함수 호출 횟수를 출력하는 데코레이터를 만들어봅시다.\n",
        "\n",
        "조건:\n",
        "* 함수가 실행될 때 마다 함수 이름과 실행 횟수를 출력하는 데코레이터 `counter` 만들기  \n",
        "\n",
        "힌트:\n",
        "* 데코레이터의 내부 함수(클로저)는 실행횟수를 기억하기 위해 외부 함수의 변수를 참조 해야 합니다\n",
        "* 함수의 이름은 `함수이름.__name__`으로 접근할 수 있습니다.\n",
        "\n",
        "---\n",
        "입력:\n",
        "```python\n",
        "@counter\n",
        "def say_hello():\n",
        "    print(\"Hello Aiffel!\")\n",
        "\n",
        "for i in range(5):\n",
        "    say_hello()\n",
        "```\n",
        "---\n",
        "출력:\n",
        "```\n",
        "Hello Aiffel!\n",
        "say_hello 실행횟수: 1\n",
        "Hello Aiffel!\n",
        "say_hello 실행횟수: 2\n",
        "Hello Aiffel!\n",
        "say_hello 실행횟수: 3\n",
        "Hello Aiffel!\n",
        "say_hello 실행횟수: 4\n",
        "Hello Aiffel!\n",
        "say_hello 실행횟수: 5\n",
        "```"
      ],
      "metadata": {
        "id": "HTdH6DkVvJMF"
      }
    },
    {
      "cell_type": "code",
      "source": [
        "## 함수의 실행개수를 출력해주는 counter 함수\n",
        "def counter(fn):\n",
        "  #입력받은 fn 의 이름을 fn_name 으로 문자열로 assign\n",
        "  fn_name=fn.__name__\n",
        "#  print( type(fn_name) )  #제대로 string 으로 출력되는 것 확인함\n",
        "  #fn 의 실행횟수를 알려주는 integar 형식의 count 변수, initial 0로 설정\n",
        "  count=0\n",
        "\n",
        "  #내부함수로써 fn의 실행횟수를 출력해주는 fn_count()\n",
        "  def fn_count():\n",
        "    #외부함수의 변수를 모두 참조\n",
        "    nonlocal count\n",
        "    nonlocal fn_name\n",
        "    #이전의 count 에서 이번에 함수가 새로 불려졌다면 1회가 추가되므로 count 를 1 증가\n",
        "    count+=1\n",
        "    #fn 의 실행횟수를 print 함수로 출력\n",
        "    print(fn_name, '실행횟수: ', count)\n",
        "\n",
        "  return fn_count"
      ],
      "metadata": {
        "id": "QYdFtnf-MOCg"
      },
      "execution_count": null,
      "outputs": []
    },
    {
      "cell_type": "code",
      "source": [
        "@counter\n",
        "def say_hello():\n",
        "    print(\"Hello Aiffel!\")\n",
        "\n",
        "for i in range(5):\n",
        "    say_hello()\n"
      ],
      "metadata": {
        "id": "plHbCpxws7z1"
      },
      "execution_count": null,
      "outputs": []
    },
    {
      "cell_type": "markdown",
      "source": [
        "김지영 회고:\n",
        "- 어려운 내용이었는데 같이 하는 분이 먼저 코딩하면서 알려주셔서 잘 해결할 수 있었습니다!\n",
        "- 특히 decorator 같은 경우에는 처음 배울때는 잘 이해가 가지 않았는데 closure 를 배우고 실습해보니 좀더 잘 이해할 수 있었던 것 같습니다"
      ],
      "metadata": {
        "id": "n9GSj0ygvXv9"
      }
    },
    {
      "cell_type": "markdown",
      "source": [
        "#####신상호 회고:######\n",
        "* 데코레이터 함수에도 클로저가 활용되는 것을 이번 퀘스트를 통해 확인할 수 있었고\n",
        "* 함께 퀘스트를 진행한 분께서 네비게이터 역할과 데코레이터 함수의 작성 방법을\n",
        "* 잘 제시해 주셨기에 수월하게 퀘스트를 진행할 수 있었습니다"
      ],
      "metadata": {
        "id": "ZUExJKm90PWm"
      }
    }
  ]
}